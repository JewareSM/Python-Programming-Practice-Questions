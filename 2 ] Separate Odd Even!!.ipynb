{
 "cells": [
  {
   "cell_type": "code",
   "execution_count": 3,
   "metadata": {},
   "outputs": [
    {
     "name": "stdout",
     "output_type": "stream",
     "text": [
      "Enter the no. of test cases : 1\n",
      "1 2 3 4 5 6\n",
      "[1, 3, 5]\n",
      "[2, 4, 6]\n"
     ]
    }
   ],
   "source": [
    "''' You are given an integer T denoting the number of test cases. For each test case, you are given an integer array A.\n",
    "    You have to put the odd and even elements of array A in 2 separate arrays and print the new arrays.\n",
    "    NOTE: Array elements should have the same relative order as in A.  '''\n",
    "\n",
    "\n",
    "\n",
    "\n",
    "\n",
    "T = int(input(\"Enter the no. of test cases : \"))\n",
    "for i in range(T):\n",
    "    evens = []\n",
    "    odds = []\n",
    "    A = list(map(int,input().split()))\n",
    "    for item  in A :\n",
    "        if item % 2 == 0:\n",
    "            evens.append(item)\n",
    "    for item in A :\n",
    "        if item % 2 != 0 :\n",
    "            odds.append(item)\n",
    "print(odds)\n",
    "print(evens)\n"
   ]
  },
  {
   "cell_type": "code",
   "execution_count": null,
   "metadata": {},
   "outputs": [],
   "source": []
  },
  {
   "cell_type": "code",
   "execution_count": null,
   "metadata": {},
   "outputs": [],
   "source": []
  },
  {
   "cell_type": "code",
   "execution_count": null,
   "metadata": {},
   "outputs": [],
   "source": []
  },
  {
   "cell_type": "code",
   "execution_count": 1,
   "metadata": {},
   "outputs": [
    {
     "name": "stdout",
     "output_type": "stream",
     "text": [
      "Enter the no. of test cases : 1\n",
      "1 2 3 4 5 6 7 8\n",
      "1 3 5 7 \n",
      "2 4 6 8 \n"
     ]
    }
   ],
   "source": [
    "T = int(input(\"Enter the no. of test cases : \"))\n",
    "for i in range(T):\n",
    "    evens = []\n",
    "    odds = []\n",
    "    A = list(map(int,input().split()))\n",
    "    for item  in A :\n",
    "        if item % 2 == 0:\n",
    "            evens.append(item)\n",
    "    for item in A :\n",
    "        if item % 2 != 0 :\n",
    "            odds.append(item)\n",
    "for i in odds:\n",
    "    print(i, end=\" \")\n",
    "print()\n",
    "for i in evens:\n",
    "    print(i,end = \" \")\n",
    "print()    "
   ]
  },
  {
   "cell_type": "code",
   "execution_count": null,
   "metadata": {},
   "outputs": [],
   "source": []
  }
 ],
 "metadata": {
  "kernelspec": {
   "display_name": "Python 3",
   "language": "python",
   "name": "python3"
  },
  "language_info": {
   "codemirror_mode": {
    "name": "ipython",
    "version": 3
   },
   "file_extension": ".py",
   "mimetype": "text/x-python",
   "name": "python",
   "nbconvert_exporter": "python",
   "pygments_lexer": "ipython3",
   "version": "3.8.5"
  }
 },
 "nbformat": 4,
 "nbformat_minor": 4
}
