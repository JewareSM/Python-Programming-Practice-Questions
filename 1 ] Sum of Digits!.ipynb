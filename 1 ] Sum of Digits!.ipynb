{
 "cells": [
  {
   "cell_type": "code",
   "execution_count": 1,
   "metadata": {},
   "outputs": [
    {
     "name": "stdout",
     "output_type": "stream",
     "text": [
      "Enter a number:123\n",
      "The total sum of digits is: 6\n"
     ]
    }
   ],
   "source": [
    "''' Question - Given a number A, we need to find the sum of its digits '''\n",
    "\n",
    "\n",
    "n=int(input(\"Enter a number:\"))\n",
    "tot=0\n",
    "while(n>0):\n",
    "    dig=n%10\n",
    "    tot=tot+dig\n",
    "    n=n//10\n",
    "print(\"The total sum of digits is:\",tot)"
   ]
  },
  {
   "cell_type": "code",
   "execution_count": 2,
   "metadata": {},
   "outputs": [
    {
     "name": "stdout",
     "output_type": "stream",
     "text": [
      "Enter a number:12345\n",
      "The total sum of digits is: 15\n"
     ]
    }
   ],
   "source": [
    "n=int(input(\"Enter a number:\"))\n",
    "sum = 0\n",
    "while n>0:\n",
    "    sum = sum + n % 10\n",
    "    n = n // 10\n",
    "print(\"The total sum of digits is:\",sum)    "
   ]
  },
  {
   "cell_type": "code",
   "execution_count": 1,
   "metadata": {},
   "outputs": [],
   "source": [
    "'''Question - Given a number A, we need to find the sum of its digits using recursion.'''\n",
    "\n",
    "\n",
    "\n",
    "def sum_of_digit( n ): \n",
    "    if n == 0: \n",
    "        return 0\n",
    "    return (n % 10 + sum_of_digit(int(n / 10))) \n"
   ]
  },
  {
   "cell_type": "code",
   "execution_count": 2,
   "metadata": {},
   "outputs": [
    {
     "data": {
      "text/plain": [
       "6"
      ]
     },
     "execution_count": 2,
     "metadata": {},
     "output_type": "execute_result"
    }
   ],
   "source": [
    "sum_of_digit(123)"
   ]
  },
  {
   "cell_type": "code",
   "execution_count": 5,
   "metadata": {},
   "outputs": [
    {
     "name": "stdout",
     "output_type": "stream",
     "text": [
      "Enter the number of test cases : 2\n",
      "Enter the number : 123\n",
      "6\n",
      "Enter the number : 12\n",
      "3\n"
     ]
    }
   ],
   "source": [
    "''' Question -  Write a program to input T numbers(N) from user and print the sum of the digits of the given numbers. '''\n",
    "\n",
    "\n",
    "\n",
    "T = int(input(\"Enter the number of test cases : \"))\n",
    "for i in range(T):\n",
    "    n = int(input(\"Enter the number : \"))\n",
    "    sum = 0\n",
    "    while n > 0:\n",
    "        sum = sum + n % 10\n",
    "        n = n//10\n",
    "    print(sum)        \n",
    "    "
   ]
  },
  {
   "cell_type": "code",
   "execution_count": null,
   "metadata": {},
   "outputs": [],
   "source": []
  },
  {
   "cell_type": "code",
   "execution_count": 6,
   "metadata": {},
   "outputs": [
    {
     "name": "stdout",
     "output_type": "stream",
     "text": [
      "1\n",
      "12345\n",
      "[5, 4, 3, 2, 1]\n"
     ]
    }
   ],
   "source": [
    "T = int(input())\n",
    "for i in range(T):\n",
    "    N = int(input())\n",
    "    li = []\n",
    "    while N > 0:\n",
    "        dig = N % 10\n",
    "        li.append(dig)\n",
    "        N =   N // 10\n",
    "        li[::-1]\n",
    "    print(li)"
   ]
  },
  {
   "cell_type": "code",
   "execution_count": 8,
   "metadata": {},
   "outputs": [
    {
     "name": "stdout",
     "output_type": "stream",
     "text": [
      "1 \n",
      "123\n",
      "3 2 1\n"
     ]
    }
   ],
   "source": [
    "T = int(input())\n",
    "for i in range(T):\n",
    "    N = int(input())\n",
    "    li = []\n",
    "    while N > 0:\n",
    "        dig = N % 10\n",
    "        li.append(dig)\n",
    "        N =   N // 10\n",
    "        li[::-1]\n",
    "    print(*li)"
   ]
  },
  {
   "cell_type": "code",
   "execution_count": 4,
   "metadata": {},
   "outputs": [
    {
     "name": "stdout",
     "output_type": "stream",
     "text": [
      "1\n",
      "-12\n",
      "0\n"
     ]
    }
   ],
   "source": [
    "tc = int(input())\n",
    "while tc > 0 :\n",
    "    tc -= 1\n",
    "    number = int(input())\n",
    "    revs_number = int(0)  \n",
    "    # Go from last digit to first digit and form new number\n",
    "    while (number > 0):  \n",
    "        revs_number = (revs_number * 10) + number % 10  \n",
    "        number = number // 10\n",
    "    print(revs_number)"
   ]
  },
  {
   "cell_type": "code",
   "execution_count": null,
   "metadata": {},
   "outputs": [],
   "source": []
  }
 ],
 "metadata": {
  "kernelspec": {
   "display_name": "Python 3",
   "language": "python",
   "name": "python3"
  },
  "language_info": {
   "codemirror_mode": {
    "name": "ipython",
    "version": 3
   },
   "file_extension": ".py",
   "mimetype": "text/x-python",
   "name": "python",
   "nbconvert_exporter": "python",
   "pygments_lexer": "ipython3",
   "version": "3.8.5"
  }
 },
 "nbformat": 4,
 "nbformat_minor": 4
}
